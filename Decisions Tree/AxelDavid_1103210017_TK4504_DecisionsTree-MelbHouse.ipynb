{
  "nbformat": 4,
  "nbformat_minor": 0,
  "metadata": {
    "colab": {
      "provenance": [],
      "authorship_tag": "ABX9TyNgTO7DqlcwaWA6dHGrfmuw",
      "include_colab_link": true
    },
    "kernelspec": {
      "name": "python3",
      "display_name": "Python 3"
    },
    "language_info": {
      "name": "python"
    }
  },
  "cells": [
    {
      "cell_type": "markdown",
      "metadata": {
        "id": "view-in-github",
        "colab_type": "text"
      },
      "source": [
        "<a href=\"https://colab.research.google.com/github/szyxxx/MachineLearning-TelkomUniversity/blob/main/AxelDavid_1103210017_TK4504_DecisionsTree-MelbHouse.ipynb\" target=\"_parent\"><img src=\"https://colab.research.google.com/assets/colab-badge.svg\" alt=\"Open In Colab\"/></a>"
      ]
    },
    {
      "cell_type": "code",
      "execution_count": null,
      "metadata": {
        "id": "3UJbHQy0AuHB",
        "colab": {
          "base_uri": "https://localhost:8080/"
        },
        "outputId": "8095cbb2-eb54-4fc2-d34c-d0d1b33d354c"
      },
      "outputs": [
        {
          "output_type": "stream",
          "name": "stdout",
          "text": [
            "Drive already mounted at /content/drive; to attempt to forcibly remount, call drive.mount(\"/content/drive\", force_remount=True).\n",
            "   Unnamed: 0      Suburb           Address  Rooms Type      Price Method  \\\n",
            "0           1  Abbotsford      85 Turner St      2    h  1480000.0      S   \n",
            "1           2  Abbotsford   25 Bloomburg St      2    h  1035000.0      S   \n",
            "2           4  Abbotsford      5 Charles St      3    h  1465000.0     SP   \n",
            "3           5  Abbotsford  40 Federation La      3    h   850000.0     PI   \n",
            "4           6  Abbotsford       55a Park St      4    h  1600000.0     VB   \n",
            "\n",
            "  SellerG       Date  Distance  ...  Bathroom  Car  Landsize  BuildingArea  \\\n",
            "0  Biggin  3/12/2016       2.5  ...       1.0  1.0     202.0           NaN   \n",
            "1  Biggin  4/02/2016       2.5  ...       1.0  0.0     156.0          79.0   \n",
            "2  Biggin  4/03/2017       2.5  ...       2.0  0.0     134.0         150.0   \n",
            "3  Biggin  4/03/2017       2.5  ...       2.0  1.0      94.0           NaN   \n",
            "4  Nelson  4/06/2016       2.5  ...       1.0  2.0     120.0         142.0   \n",
            "\n",
            "   YearBuilt  CouncilArea  Lattitude Longtitude             Regionname  \\\n",
            "0        NaN        Yarra   -37.7996   144.9984  Northern Metropolitan   \n",
            "1     1900.0        Yarra   -37.8079   144.9934  Northern Metropolitan   \n",
            "2     1900.0        Yarra   -37.8093   144.9944  Northern Metropolitan   \n",
            "3        NaN        Yarra   -37.7969   144.9969  Northern Metropolitan   \n",
            "4     2014.0        Yarra   -37.8072   144.9941  Northern Metropolitan   \n",
            "\n",
            "   Propertycount  \n",
            "0         4019.0  \n",
            "1         4019.0  \n",
            "2         4019.0  \n",
            "3         4019.0  \n",
            "4         4019.0  \n",
            "\n",
            "[5 rows x 22 columns]\n",
            "Mean Squared Error: 155377467955.15564\n"
          ]
        }
      ],
      "source": [
        "import pandas as pd\n",
        "from sklearn.model_selection import train_test_split\n",
        "from sklearn.tree import DecisionTreeRegressor\n",
        "from sklearn.metrics import mean_squared_error\n",
        "from google.colab import drive\n",
        "drive.mount('/content/drive')\n",
        "\n",
        "# Import data from drive path\n",
        "path_to_data = \"/content/melb_data.csv\"\n",
        "data = pd.read_csv(path_to_data)\n",
        "\n",
        "print(data.head())\n",
        "\n",
        "# Identify categorical columns\n",
        "categorical_cols = data.select_dtypes(include=['object']).columns\n",
        "\n",
        "# Separate features (X) and targets (y)\n",
        "dataModel = data.dropna()  # Deletes rows containing NaN\n",
        "X = dataModel.drop(['Price'], axis=1) # Removed 'Price' column for Features\n",
        "X = pd.get_dummies(X, drop_first=True) # Performs one-hot encoding on categorical features in DataFrame\n",
        "y = dataModel['Price'] # Target\n",
        "\n",
        "# Split the data into training and test sets\n",
        "X_train, X_test, y_train, y_test = train_test_split(X, y, test_size=0.2, random_state=42)\n",
        "\n",
        "# Initialize Decision Tree model\n",
        "model = DecisionTreeRegressor(random_state=42)\n",
        "\n",
        "# Train the model on the training data\n",
        "model.fit(X_train, y_train)\n",
        "\n",
        "# Perform predictions on the test data\n",
        "y_pred = model.predict(X_test)\n",
        "\n",
        "# Evaluate model accuracy\n",
        "mse = mean_squared_error(y_test, y_pred)\n",
        "print(\"Mean Squared Error:\", mse)"
      ]
    }
  ]
}
