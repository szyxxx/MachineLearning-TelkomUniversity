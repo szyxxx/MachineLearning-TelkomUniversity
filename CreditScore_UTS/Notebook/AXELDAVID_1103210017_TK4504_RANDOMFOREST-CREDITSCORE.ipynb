{
 "cells": [
  {
   "cell_type": "markdown",
   "metadata": {},
   "source": [
    "# Mid Term Task - Machine Learning Class"
   ]
  },
  {
   "cell_type": "markdown",
   "metadata": {},
   "source": [
    "Name                    : Axel David<br>\n",
    "NIM                     : 1103210017<br>\n",
    "Class                   : TK-45-04<br>\n",
    "Tools                   : Jupyter Notebook<br>\n",
    "Dataset                 : [Credit score classification](https://www.kaggle.com/datasets/parisrohan/credit-score-classification)<br>\n",
    "[Chat-GPT Documentation](https://chat.openai.com/share/848e70de-bcb4-489a-977e-36a4289d34a8)"
   ]
  },
  {
   "cell_type": "markdown",
   "metadata": {},
   "source": [
    "### Problem Statement\n",
    "Imagine working as a data scientist in a global finance company. Over the years, the company has collected basic bank details and gathered a lot of credit-related information. The management wants to build an intelligent system to segregate the people into credit score brackets to reduce the manual efforts.\n",
    "\n",
    "### Task Goal\n",
    "Given a person's credit-related information. \n",
    "Build machine learning models that can classify the credit score with >95% accuracy using Orange and Python\n",
    "(1 model minimum)"
   ]
  },
  {
   "cell_type": "markdown",
   "metadata": {},
   "source": [
    "# =================================="
   ]
  },
  {
   "cell_type": "markdown",
   "metadata": {},
   "source": [
    "## Programs"
   ]
  },
  {
   "cell_type": "markdown",
   "metadata": {},
   "source": [
    "### Import Dataset"
   ]
  },
  {
   "cell_type": "code",
   "execution_count": 1,
   "metadata": {},
   "outputs": [],
   "source": [
    "# Downloading the Dataset using Kaggle API\n",
    "# !kaggle datasets download -d parisrohan/credit-score-classification"
   ]
  },
  {
   "cell_type": "code",
   "execution_count": 2,
   "metadata": {},
   "outputs": [],
   "source": [
    "# Unzipping the Dataset\n",
    "# import zipfile\n",
    "\n",
    "# with zipfile.ZipFile(\"credit-score-classification.zip\", 'r') as zip_ref:\n",
    "#     zip_ref.extractall(\"Dataset\")\n",
    "\n",
    "# print(\"File unzipped successfully!\")"
   ]
  },
  {
   "cell_type": "markdown",
   "metadata": {},
   "source": [
    "### Dataset Information"
   ]
  },
  {
   "cell_type": "markdown",
   "metadata": {},
   "source": [
    "#### <li>Train Data</li>"
   ]
  },
  {
   "cell_type": "code",
   "execution_count": 3,
   "metadata": {},
   "outputs": [
    {
     "name": "stdout",
     "output_type": "stream",
     "text": [
      "<class 'pandas.core.frame.DataFrame'>\n",
      "RangeIndex: 100000 entries, 0 to 99999\n",
      "Data columns (total 28 columns):\n",
      " #   Column                    Non-Null Count   Dtype  \n",
      "---  ------                    --------------   -----  \n",
      " 0   ID                        100000 non-null  object \n",
      " 1   Customer_ID               100000 non-null  object \n",
      " 2   Month                     100000 non-null  object \n",
      " 3   Name                      90015 non-null   object \n",
      " 4   Age                       100000 non-null  object \n",
      " 5   SSN                       100000 non-null  object \n",
      " 6   Occupation                100000 non-null  object \n",
      " 7   Annual_Income             100000 non-null  object \n",
      " 8   Monthly_Inhand_Salary     84998 non-null   float64\n",
      " 9   Num_Bank_Accounts         100000 non-null  int64  \n",
      " 10  Num_Credit_Card           100000 non-null  int64  \n",
      " 11  Interest_Rate             100000 non-null  int64  \n",
      " 12  Num_of_Loan               100000 non-null  object \n",
      " 13  Type_of_Loan              88592 non-null   object \n",
      " 14  Delay_from_due_date       100000 non-null  int64  \n",
      " 15  Num_of_Delayed_Payment    92998 non-null   object \n",
      " 16  Changed_Credit_Limit      100000 non-null  object \n",
      " 17  Num_Credit_Inquiries      98035 non-null   float64\n",
      " 18  Credit_Mix                100000 non-null  object \n",
      " 19  Outstanding_Debt          100000 non-null  object \n",
      " 20  Credit_Utilization_Ratio  100000 non-null  float64\n",
      " 21  Credit_History_Age        90970 non-null   object \n",
      " 22  Payment_of_Min_Amount     100000 non-null  object \n",
      " 23  Total_EMI_per_month       100000 non-null  float64\n",
      " 24  Amount_invested_monthly   95521 non-null   object \n",
      " 25  Payment_Behaviour         100000 non-null  object \n",
      " 26  Monthly_Balance           98800 non-null   object \n",
      " 27  Credit_Score              100000 non-null  object \n",
      "dtypes: float64(4), int64(4), object(20)\n",
      "memory usage: 21.4+ MB\n"
     ]
    },
    {
     "name": "stderr",
     "output_type": "stream",
     "text": [
      "C:\\Users\\axeld\\AppData\\Local\\Temp\\ipykernel_30468\\3105274261.py:4: DtypeWarning: Columns (26) have mixed types. Specify dtype option on import or set low_memory=False.\n",
      "  train_df = pd.read_csv(r'Dataset\\train.csv')\n"
     ]
    }
   ],
   "source": [
    "import pandas as pd\n",
    "\n",
    "# Read CSV File\n",
    "train_df = pd.read_csv(r'Dataset\\train.csv')\n",
    "# Show Information\n",
    "train_df.info()\n",
    "# Show Head\n",
    "train_df.head()\n",
    "# Show Tail\n",
    "train_df.tail()\n",
    "\n",
    "test_df = train_df"
   ]
  },
  {
   "cell_type": "markdown",
   "metadata": {},
   "source": [
    "### Preprocessing Data"
   ]
  },
  {
   "cell_type": "markdown",
   "metadata": {},
   "source": [
    "#### <li>Negative Values</li>"
   ]
  },
  {
   "cell_type": "code",
   "execution_count": 4,
   "metadata": {},
   "outputs": [
    {
     "name": "stderr",
     "output_type": "stream",
     "text": [
      "C:\\Users\\axeld\\AppData\\Local\\Temp\\ipykernel_30468\\1529313086.py:6: SettingWithCopyWarning: \n",
      "A value is trying to be set on a copy of a slice from a DataFrame.\n",
      "Try using .loc[row_indexer,col_indexer] = value instead\n",
      "\n",
      "See the caveats in the documentation: https://pandas.pydata.org/pandas-docs/stable/user_guide/indexing.html#returning-a-view-versus-a-copy\n",
      "  train_df[numeric_columns][train_df[numeric_columns] < 0] = np.nan\n",
      "C:\\Users\\axeld\\AppData\\Local\\Temp\\ipykernel_30468\\1529313086.py:6: SettingWithCopyWarning: \n",
      "A value is trying to be set on a copy of a slice from a DataFrame\n",
      "\n",
      "See the caveats in the documentation: https://pandas.pydata.org/pandas-docs/stable/user_guide/indexing.html#returning-a-view-versus-a-copy\n",
      "  train_df[numeric_columns][train_df[numeric_columns] < 0] = np.nan\n",
      "C:\\Users\\axeld\\AppData\\Local\\Temp\\ipykernel_30468\\1529313086.py:7: SettingWithCopyWarning: \n",
      "A value is trying to be set on a copy of a slice from a DataFrame.\n",
      "Try using .loc[row_indexer,col_indexer] = value instead\n",
      "\n",
      "See the caveats in the documentation: https://pandas.pydata.org/pandas-docs/stable/user_guide/indexing.html#returning-a-view-versus-a-copy\n",
      "  test_df[numeric_columns][test_df[numeric_columns] < 0] = np.nan\n",
      "C:\\Users\\axeld\\AppData\\Local\\Temp\\ipykernel_30468\\1529313086.py:7: SettingWithCopyWarning: \n",
      "A value is trying to be set on a copy of a slice from a DataFrame\n",
      "\n",
      "See the caveats in the documentation: https://pandas.pydata.org/pandas-docs/stable/user_guide/indexing.html#returning-a-view-versus-a-copy\n",
      "  test_df[numeric_columns][test_df[numeric_columns] < 0] = np.nan\n"
     ]
    }
   ],
   "source": [
    "from sklearn.preprocessing import LabelEncoder\n",
    "import numpy as np\n",
    "\n",
    "# Check for negative values and replace with NaN\n",
    "numeric_columns = train_df.select_dtypes(include='number').columns\n",
    "train_df[numeric_columns][train_df[numeric_columns] < 0] = np.nan\n",
    "test_df[numeric_columns][test_df[numeric_columns] < 0] = np.nan"
   ]
  },
  {
   "cell_type": "markdown",
   "metadata": {},
   "source": [
    "#### <li>Remove Dupicates</li>"
   ]
  },
  {
   "cell_type": "code",
   "execution_count": 5,
   "metadata": {},
   "outputs": [],
   "source": [
    "# Remove duplicates\n",
    "train_df = train_df.drop_duplicates()\n",
    "test_df = test_df.drop_duplicates()"
   ]
  },
  {
   "cell_type": "markdown",
   "metadata": {},
   "source": [
    "#### <li>Mising Values</li>"
   ]
  },
  {
   "cell_type": "code",
   "execution_count": 6,
   "metadata": {},
   "outputs": [],
   "source": [
    "# Impute missing values with deleting rows of data\n",
    "train_df.dropna(inplace=True)\n",
    "test_df.dropna(inplace=True)"
   ]
  },
  {
   "cell_type": "code",
   "execution_count": 7,
   "metadata": {},
   "outputs": [
    {
     "name": "stdout",
     "output_type": "stream",
     "text": [
      "<class 'pandas.core.frame.DataFrame'>\n",
      "Index: 53049 entries, 0 to 99999\n",
      "Data columns (total 28 columns):\n",
      " #   Column                    Non-Null Count  Dtype  \n",
      "---  ------                    --------------  -----  \n",
      " 0   ID                        53049 non-null  object \n",
      " 1   Customer_ID               53049 non-null  object \n",
      " 2   Month                     53049 non-null  object \n",
      " 3   Name                      53049 non-null  object \n",
      " 4   Age                       53049 non-null  object \n",
      " 5   SSN                       53049 non-null  object \n",
      " 6   Occupation                53049 non-null  object \n",
      " 7   Annual_Income             53049 non-null  object \n",
      " 8   Monthly_Inhand_Salary     53049 non-null  float64\n",
      " 9   Num_Bank_Accounts         53049 non-null  int64  \n",
      " 10  Num_Credit_Card           53049 non-null  int64  \n",
      " 11  Interest_Rate             53049 non-null  int64  \n",
      " 12  Num_of_Loan               53049 non-null  object \n",
      " 13  Type_of_Loan              53049 non-null  object \n",
      " 14  Delay_from_due_date       53049 non-null  int64  \n",
      " 15  Num_of_Delayed_Payment    53049 non-null  object \n",
      " 16  Changed_Credit_Limit      53049 non-null  object \n",
      " 17  Num_Credit_Inquiries      53049 non-null  float64\n",
      " 18  Credit_Mix                53049 non-null  object \n",
      " 19  Outstanding_Debt          53049 non-null  object \n",
      " 20  Credit_Utilization_Ratio  53049 non-null  float64\n",
      " 21  Credit_History_Age        53049 non-null  object \n",
      " 22  Payment_of_Min_Amount     53049 non-null  object \n",
      " 23  Total_EMI_per_month       53049 non-null  float64\n",
      " 24  Amount_invested_monthly   53049 non-null  object \n",
      " 25  Payment_Behaviour         53049 non-null  object \n",
      " 26  Monthly_Balance           53049 non-null  object \n",
      " 27  Credit_Score              53049 non-null  object \n",
      "dtypes: float64(4), int64(4), object(20)\n",
      "memory usage: 11.7+ MB\n",
      "<class 'pandas.core.frame.DataFrame'>\n",
      "Index: 53049 entries, 0 to 99999\n",
      "Data columns (total 28 columns):\n",
      " #   Column                    Non-Null Count  Dtype  \n",
      "---  ------                    --------------  -----  \n",
      " 0   ID                        53049 non-null  object \n",
      " 1   Customer_ID               53049 non-null  object \n",
      " 2   Month                     53049 non-null  object \n",
      " 3   Name                      53049 non-null  object \n",
      " 4   Age                       53049 non-null  object \n",
      " 5   SSN                       53049 non-null  object \n",
      " 6   Occupation                53049 non-null  object \n",
      " 7   Annual_Income             53049 non-null  object \n",
      " 8   Monthly_Inhand_Salary     53049 non-null  float64\n",
      " 9   Num_Bank_Accounts         53049 non-null  int64  \n",
      " 10  Num_Credit_Card           53049 non-null  int64  \n",
      " 11  Interest_Rate             53049 non-null  int64  \n",
      " 12  Num_of_Loan               53049 non-null  object \n",
      " 13  Type_of_Loan              53049 non-null  object \n",
      " 14  Delay_from_due_date       53049 non-null  int64  \n",
      " 15  Num_of_Delayed_Payment    53049 non-null  object \n",
      " 16  Changed_Credit_Limit      53049 non-null  object \n",
      " 17  Num_Credit_Inquiries      53049 non-null  float64\n",
      " 18  Credit_Mix                53049 non-null  object \n",
      " 19  Outstanding_Debt          53049 non-null  object \n",
      " 20  Credit_Utilization_Ratio  53049 non-null  float64\n",
      " 21  Credit_History_Age        53049 non-null  object \n",
      " 22  Payment_of_Min_Amount     53049 non-null  object \n",
      " 23  Total_EMI_per_month       53049 non-null  float64\n",
      " 24  Amount_invested_monthly   53049 non-null  object \n",
      " 25  Payment_Behaviour         53049 non-null  object \n",
      " 26  Monthly_Balance           53049 non-null  object \n",
      " 27  Credit_Score              53049 non-null  object \n",
      "dtypes: float64(4), int64(4), object(20)\n",
      "memory usage: 11.7+ MB\n"
     ]
    }
   ],
   "source": [
    "test_df.info()\n",
    "train_df.info()"
   ]
  },
  {
   "cell_type": "markdown",
   "metadata": {},
   "source": [
    "### Feature Engineering"
   ]
  },
  {
   "cell_type": "markdown",
   "metadata": {},
   "source": [
    "#### <li>Select Relevant Features</li>"
   ]
  },
  {
   "cell_type": "code",
   "execution_count": 8,
   "metadata": {},
   "outputs": [],
   "source": [
    "# Select relevant columns\n",
    "columns_to_keep = ['Credit_Score','Monthly_Inhand_Salary','Num_Bank_Accounts','Num_Credit_Card',\n",
    "                   'Interest_Rate','Delay_from_due_date','Num_Credit_Inquiries',\n",
    "                   'Credit_Utilization_Ratio','Total_EMI_per_month']"
   ]
  },
  {
   "cell_type": "code",
   "execution_count": 9,
   "metadata": {},
   "outputs": [],
   "source": [
    "from sklearn.preprocessing import LabelEncoder\n",
    "\n",
    "train_df = train_df[columns_to_keep]\n",
    "test_df = test_df[columns_to_keep]\n",
    "\n",
    "# Initialize LabelEncoder\n",
    "label_encoder = LabelEncoder()\n",
    "\n",
    "# Encode the target attribute\n",
    "train_df[\"Encoded_Credit_Score\"] = label_encoder.fit_transform(train_df[\"Credit_Score\"])"
   ]
  },
  {
   "cell_type": "markdown",
   "metadata": {},
   "source": [
    "#### <li>Select Target Variable</li>"
   ]
  },
  {
   "cell_type": "code",
   "execution_count": 10,
   "metadata": {},
   "outputs": [],
   "source": [
    "import numpy as np\n",
    "\n",
    "# Separate features and target variable\n",
    "X_train = train_df.drop([\"Credit_Score\", \"Encoded_Credit_Score\"], axis=1)\n",
    "y_train = train_df[\"Encoded_Credit_Score\"]\n",
    "X_test = test_df"
   ]
  },
  {
   "cell_type": "markdown",
   "metadata": {},
   "source": [
    "### Random Forest"
   ]
  },
  {
   "cell_type": "markdown",
   "metadata": {},
   "source": [
    "#### <li>Create a Random Forest Classifier"
   ]
  },
  {
   "cell_type": "code",
   "execution_count": 11,
   "metadata": {},
   "outputs": [
    {
     "name": "stdout",
     "output_type": "stream",
     "text": [
      "Training Accuracy: 0.9999622990065788\n"
     ]
    }
   ],
   "source": [
    "from sklearn.ensemble import RandomForestClassifier\n",
    "from sklearn.metrics import accuracy_score\n",
    "\n",
    "# Create Random Forest classifier\n",
    "rf_classifier = RandomForestClassifier()\n",
    "\n",
    "# Train the classifier\n",
    "rf_classifier.fit(X_train, y_train)\n",
    "\n",
    "# Predict on training set\n",
    "train_pred = rf_classifier.predict(X_train)\n",
    "\n",
    "# Evaluate training accuracy\n",
    "train_accuracy = accuracy_score(y_train, train_pred)\n",
    "print(\"Training Accuracy:\", train_accuracy)\n"
   ]
  },
  {
   "cell_type": "markdown",
   "metadata": {},
   "source": [
    "#### <li>Calculate Regression Evaluation Metrics</li>"
   ]
  },
  {
   "cell_type": "code",
   "execution_count": 12,
   "metadata": {},
   "outputs": [
    {
     "name": "stdout",
     "output_type": "stream",
     "text": [
      "Training MSE: 3.770099342117665e-05\n",
      "Training RMSE: 0.006140113469731374\n",
      "Training MAE: 3.770099342117665e-05\n"
     ]
    }
   ],
   "source": [
    "from sklearn.metrics import mean_squared_error, mean_absolute_error\n",
    "\n",
    "# Calculate regression evaluation metrics on training set\n",
    "\n",
    "mse_train = mean_squared_error(y_train, train_pred)\n",
    "rmse_train = np.sqrt(mse_train)\n",
    "mae_train = mean_absolute_error(y_train, train_pred)\n",
    "\n",
    "print(\"Training MSE:\", mse_train)\n",
    "print(\"Training RMSE:\", rmse_train)\n",
    "print(\"Training MAE:\", mae_train)\n"
   ]
  },
  {
   "cell_type": "markdown",
   "metadata": {},
   "source": [
    "#### <li>Calculate Confusion Matrix"
   ]
  },
  {
   "cell_type": "code",
   "execution_count": 13,
   "metadata": {},
   "outputs": [
    {
     "data": {
      "image/png": "[encoded data removed]",
      "text/plain": [
       "<Figure size 800x600 with 1 Axes>"
      ]
     },
     "metadata": {},
     "output_type": "display_data"
    }
   ],
   "source": [
    "import matplotlib.pyplot as plt \n",
    "from sklearn.metrics import confusion_matrix\n",
    "import seaborn as sns\n",
    "\n",
    "# Calculate confusion matrix\n",
    "conf_matrix = confusion_matrix(y_train, train_pred)\n",
    "\n",
    "# Plot confusion matrix\n",
    "plt.figure(figsize=(8, 6))\n",
    "sns.heatmap(conf_matrix, annot=True, fmt='d', cmap='Blues', cbar=False)\n",
    "plt.xlabel('Predicted labels')\n",
    "plt.ylabel('True labels')\n",
    "plt.title('Confusion Matrix')\n",
    "plt.show()\n"
   ]
  },
  {
   "cell_type": "markdown",
   "metadata": {},
   "source": [
    "#### <li>Predict Credit_Score in the Test.csv</li>"
   ]
  },
  {
   "cell_type": "code",
   "execution_count": 14,
   "metadata": {},
   "outputs": [
    {
     "name": "stderr",
     "output_type": "stream",
     "text": [
      "C:\\Users\\axeld\\AppData\\Local\\Temp\\ipykernel_30468\\3773036432.py:5: SettingWithCopyWarning: \n",
      "A value is trying to be set on a copy of a slice from a DataFrame.\n",
      "Try using .loc[row_indexer,col_indexer] = value instead\n",
      "\n",
      "See the caveats in the documentation: https://pandas.pydata.org/pandas-docs/stable/user_guide/indexing.html#returning-a-view-versus-a-copy\n",
      "  readytotest_df[numeric_columns][readytotest_df[numeric_columns] < 0] = np.nan\n",
      "C:\\Users\\axeld\\AppData\\Local\\Temp\\ipykernel_30468\\3773036432.py:5: SettingWithCopyWarning: \n",
      "A value is trying to be set on a copy of a slice from a DataFrame\n",
      "\n",
      "See the caveats in the documentation: https://pandas.pydata.org/pandas-docs/stable/user_guide/indexing.html#returning-a-view-versus-a-copy\n",
      "  readytotest_df[numeric_columns][readytotest_df[numeric_columns] < 0] = np.nan\n",
      "C:\\Users\\axeld\\AppData\\Local\\Temp\\ipykernel_30468\\3773036432.py:6: SettingWithCopyWarning: \n",
      "A value is trying to be set on a copy of a slice from a DataFrame.\n",
      "Try using .loc[row_indexer,col_indexer] = value instead\n",
      "\n",
      "See the caveats in the documentation: https://pandas.pydata.org/pandas-docs/stable/user_guide/indexing.html#returning-a-view-versus-a-copy\n",
      "  test_df[numeric_columns][test_df[numeric_columns] < 0] = np.nan\n",
      "C:\\Users\\axeld\\AppData\\Local\\Temp\\ipykernel_30468\\3773036432.py:6: SettingWithCopyWarning: \n",
      "A value is trying to be set on a copy of a slice from a DataFrame\n",
      "\n",
      "See the caveats in the documentation: https://pandas.pydata.org/pandas-docs/stable/user_guide/indexing.html#returning-a-view-versus-a-copy\n",
      "  test_df[numeric_columns][test_df[numeric_columns] < 0] = np.nan\n"
     ]
    }
   ],
   "source": [
    "readytotest_df = pd.read_csv(r'Dataset\\test.csv')\n",
    "\n",
    "# Check for negative values and replace with NaN\n",
    "numeric_columns = readytotest_df.select_dtypes(include='number').columns\n",
    "readytotest_df[numeric_columns][readytotest_df[numeric_columns] < 0] = np.nan\n",
    "test_df[numeric_columns][test_df[numeric_columns] < 0] = np.nan\n",
    "\n",
    "# Remove duplicates\n",
    "readytotest_df = readytotest_df.drop_duplicates()\n",
    "test_df = test_df.drop_duplicates()\n",
    "\n",
    "# Impute missing values with deleting rows of data\n",
    "readytotest_df.dropna(inplace=True)\n",
    "test_df.dropna(inplace=True)\n",
    "\n",
    "# Copy the DataFrame and exclude the 'Credit_Score' column\n",
    "columns_to_keep_copy = columns_to_keep.copy()\n",
    "columns_to_keep_copy.remove(\"Credit_Score\")\n",
    "readytotest_df = readytotest_df[columns_to_keep_copy]"
   ]
  },
  {
   "cell_type": "code",
   "execution_count": 15,
   "metadata": {},
   "outputs": [
    {
     "name": "stdout",
     "output_type": "stream",
     "text": [
      "Predicted Credit_Score for test dataset:\n",
      "[0 0 2 ... 1 1 1]\n"
     ]
    }
   ],
   "source": [
    "# Separate features and target variable for the other dataset\n",
    "X_other = readytotest_df\n",
    "y_other_actual = train_pred\n",
    "\n",
    "# Use the trained prediction model to make predictions on the other dataset\n",
    "y_other_pred = rf_classifier.predict(X_train)\n",
    "\n",
    "# Display the predicted Credit_Score values for the test dataset\n",
    "print(\"Predicted Credit_Score for test dataset:\")\n",
    "print(y_other_pred)"
   ]
  },
  {
   "cell_type": "markdown",
   "metadata": {},
   "source": [
    "#### <li>Evaluate Accuracy of Training Dataset to Test Dataset</li>"
   ]
  },
  {
   "cell_type": "code",
   "execution_count": 16,
   "metadata": {},
   "outputs": [
    {
     "name": "stdout",
     "output_type": "stream",
     "text": [
      "Training MSE: 3.770099342117665e-05\n",
      "Training RMSE: 0.006140113469731374\n",
      "Training MAE: 3.770099342117665e-05\n"
     ]
    }
   ],
   "source": [
    "# Calculate evaluation metrics for the other dataset\n",
    "mse_other = mean_squared_error(y_other_actual, y_other_pred)\n",
    "rmse_other = np.sqrt(mse_other)\n",
    "mae_other = mean_absolute_error(y_other_actual, y_other_pred)\n",
    "\n",
    "print(\"Training MSE:\", mse_train)\n",
    "print(\"Training RMSE:\", rmse_train)\n",
    "print(\"Training MAE:\", mae_train)"
   ]
  }
 ],
 "metadata": {
  "kernelspec": {
   "display_name": "base",
   "language": "python",
   "name": "python3"
  },
  "language_info": {
   "codemirror_mode": {
    "name": "ipython",
    "version": 3
   },
   "file_extension": ".py",
   "mimetype": "text/x-python",
   "name": "python",
   "nbconvert_exporter": "python",
   "pygments_lexer": "ipython3",
   "version": "3.10.6"
  }
 },
 "nbformat": 4,
 "nbformat_minor": 2
}
